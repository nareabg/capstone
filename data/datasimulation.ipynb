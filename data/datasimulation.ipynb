{
  "nbformat": 4,
  "nbformat_minor": 0,
  "metadata": {
    "colab": {
      "provenance": []
    },
    "kernelspec": {
      "name": "python3",
      "display_name": "Python 3"
    },
    "language_info": {
      "name": "python"
    }
  },
  "cells": [
    {
      "cell_type": "code",
      "execution_count": null,
      "metadata": {
        "id": "8XppJnGO-4Zl"
      },
      "outputs": [],
      "source": [
        "import pandas as pd\n",
        "import random\n",
        "import string\n",
        "from datetime import datetime, timedelta\n",
        "\n",
        "\n",
        "# Set seed for reproducibility\n",
        "random.seed(42)\n",
        "\n",
        "# Set up variables\n",
        "start_date = datetime(2022, 9, 1)\n",
        "end_date = datetime.today()\n",
        "n_customers = 2000\n",
        "n_rows = 100\n",
        "multipliers = [6000, 8000, 2500, 6500, 5500, 2000, 5000]\n",
        "\n",
        "# Generate customer list\n",
        "customers = []\n",
        "for i in range(n_customers):\n",
        "    customer_id = ''.join(random.choices(string.ascii_uppercase, k=3)) + str(random.randint(100000, 999999))\n",
        "    customers.extend([customer_id] * random.randint(1, 5))  # Vary the repetitions of each customer\n",
        "\n",
        "# Create list of dates\n",
        "date_list = pd.date_range(start=start_date, end=end_date, freq='D')\n",
        "\n",
        "# Create empty DataFrame\n",
        "df = pd.DataFrame(columns=['Customer', 'Date', 'Product weight', 'Product price', 'Gender', 'Branch/Locker', 'Location', 'InvoiceId'])\n",
        "\n",
        "# Loop through dates and add rows to DataFrame\n",
        "for date in date_list:\n",
        "    # Create list of customers to use for this date\n",
        "    date_customers = random.choices(customers, k=n_rows)\n",
        "    \n",
        "    # Generate data for this date\n",
        "    weights = [round(random.uniform(0.1, 8), 2) for _ in range(n_rows)]\n",
        "    product_price = [w * random.choice(multipliers) for w in weights]\n",
        "    gender = random.choices(['F', 'M'], k=n_rows)\n",
        "    branch_locker = random.choices(['G-Location 1', 'G-Location 2', 'G-Location 3', 'G-Location 4', 'G-Location 5'], k=n_rows)\n",
        "    location = ['Yerevan' for _ in range(n_rows)]\n",
        "    invoice_ids = [f'INV-{i+1}' for i in range(n_rows)]\n",
        "    \n",
        "    # Add data to DataFrame\n",
        "    new_rows = pd.DataFrame({\n",
        "        'Customer': date_customers,\n",
        "        'Date': [date] * n_rows,\n",
        "        'Product weight': weights,\n",
        "        'Product price': product_price,\n",
        "        'Gender': gender,\n",
        "        'Branch/Locker': branch_locker,\n",
        "        'Location': location,\n",
        "        'InvoiceId': invoice_ids\n",
        "    })\n",
        "    df = df.append(new_rows)\n",
        "\n",
        "# Reset index\n",
        "df = df.reset_index(drop=True)\n",
        "\n",
        "# Convert Date column to datetime64\n",
        "df['Date'] = pd.to_datetime(df['Date'])\n",
        "\n",
        "# Print DataFrame\n",
        "df.head()\n",
        "df.to_csv('globbing.csv', index=False)\n"
      ]
    }
  ]
}