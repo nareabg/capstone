{
 "cells": [
  {
   "cell_type": "code",
   "execution_count": null,
   "metadata": {},
   "outputs": [],
   "source": [
    "import pandas as pd\n",
    "import numpy as np\n",
    "from IPython.display import Javascript"
   ]
  },
  {
   "cell_type": "code",
   "execution_count": null,
   "metadata": {},
   "outputs": [],
   "source": [
    "df = pd.read_csv('data.csv')\n",
    "\n",
    "# Define the possible values of the constant\n",
    "possible_constants = [5500, 6000, 7000]\n",
    "\n",
    "# Randomly choose a constant for each row\n",
    "random_constants = np.random.choice(possible_constants, size=len(df))\n",
    "\n",
    "# Generate the price column based on the weight column and the randomly chosen constant\n",
    "df['Product price'] = df['Product weight'] * random_constants\n",
    "\n",
    "possible_genders = ['F', 'M']\n",
    "\n",
    "df['Gender'] = np.random.choice(possible_genders, size=len(df))\n",
    "\n"
   ]
  },
  {
   "cell_type": "code",
   "execution_count": null,
   "metadata": {},
   "outputs": [],
   "source": [
    "df.to_csv('data.csv', index=False)\n",
    "# Download the CSV file\n",
    "Javascript(\"\"\"\n",
    "var csv_file = new Blob(['\\ufeff', '%s'], {type:'text/csv;charset=utf-8;'});\n",
    "var download_link = document.createElement('a');\n",
    "download_link.href = window.URL.createObjectURL(csv_file);\n",
    "download_link.download = 'data.csv';\n",
    "document.body.appendChild(download_link);\n",
    "download_link.click();\n",
    "document.body.removeChild(download_link);\n",
    "\"\"\" % df.to_csv(index=False).replace('\\n','\\\\n').replace(\"'\", r\"\\'\"))"
   ]
  }
 ],
 "metadata": {
  "language_info": {
   "name": "python"
  },
  "orig_nbformat": 4
 },
 "nbformat": 4,
 "nbformat_minor": 2
}
