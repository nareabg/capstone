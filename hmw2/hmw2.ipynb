{
  "cells": [
    {
      "cell_type": "code",
      "execution_count": null,
      "metadata": {
        "id": "_aN1zIoQxnVV"
      },
      "outputs": [
        {
          "ename": "",
          "evalue": "",
          "output_type": "error",
          "traceback": [
            "\u001b[1;31mFailed to start the Kernel. \n",
            "\u001b[1;31mActivating extension 'ms-python.python' failed: command 'python.viewOutput' already exists. \n",
            "\u001b[1;31mView Jupyter <a href='command:jupyter.viewOutput'>log</a> for further details."
          ]
        }
      ],
      "source": [
        "#!pip install lifetimes\n",
        "import pandas as pd\n",
        "import numpy as np\n",
        "from lifetimes import GammaGammaFitter\n",
        "from lifetimes import BetaGeoFitter\n",
        "import datetime as dt\n",
        "from lifetimes.plotting import plot_probability_alive_matrix\n",
        "from lifetimes.plotting import plot_frequency_recency_matrix\n",
        "import matplotlib.pyplot as plt\n",
        "from matplotlib import rcParams\n",
        "import seaborn as sns\n",
        "import plotly.express as px\n",
        "import plotly.graph_objects as go\n",
        "import plotly.express as px\n",
        "from datetime import datetime"
      ]
    },
    {
      "cell_type": "code",
      "execution_count": null,
      "metadata": {
        "id": "n3KRXEPrx1MQ"
      },
      "outputs": [
        {
          "ename": "",
          "evalue": "",
          "output_type": "error",
          "traceback": [
            "\u001b[1;31mFailed to start the Kernel. \n",
            "\u001b[1;31mActivating extension 'ms-python.python' failed: command 'python.viewOutput' already exists. \n",
            "\u001b[1;31mView Jupyter <a href='command:jupyter.viewOutput'>log</a> for further details."
          ]
        }
      ],
      "source": [
        "df = pd.read_csv(\"globbing.csv\")"
      ]
    },
    {
      "cell_type": "code",
      "execution_count": null,
      "metadata": {
        "colab": {
          "base_uri": "https://localhost:8080/",
          "height": 204
        },
        "id": "aenwE8gax6b8",
        "outputId": "46442393-b39c-4b98-9edd-c900ae28d2ad"
      },
      "outputs": [
        {
          "ename": "",
          "evalue": "",
          "output_type": "error",
          "traceback": [
            "\u001b[1;31mFailed to start the Kernel. \n",
            "\u001b[1;31mActivating extension 'ms-python.python' failed: command 'python.viewOutput' already exists. \n",
            "\u001b[1;31mView Jupyter <a href='command:jupyter.viewOutput'>log</a> for further details."
          ]
        }
      ],
      "source": [
        "df.head()"
      ]
    },
    {
      "cell_type": "code",
      "execution_count": null,
      "metadata": {
        "colab": {
          "base_uri": "https://localhost:8080/",
          "height": 297
        },
        "id": "JoqXy-uiyCgc",
        "outputId": "e381733d-f31d-454b-fae3-1e333f7dcba2"
      },
      "outputs": [
        {
          "ename": "",
          "evalue": "",
          "output_type": "error",
          "traceback": [
            "\u001b[1;31mFailed to start the Kernel. \n",
            "\u001b[1;31mActivating extension 'ms-python.python' failed: command 'python.viewOutput' already exists. \n",
            "\u001b[1;31mView Jupyter <a href='command:jupyter.viewOutput'>log</a> for further details."
          ]
        }
      ],
      "source": [
        "df.describe()"
      ]
    },
    {
      "cell_type": "code",
      "execution_count": null,
      "metadata": {
        "colab": {
          "base_uri": "https://localhost:8080/"
        },
        "id": "7bdjSG61yEFs",
        "outputId": "17cd089f-df22-42dd-f107-1cc6369b97ff"
      },
      "outputs": [
        {
          "ename": "",
          "evalue": "",
          "output_type": "error",
          "traceback": [
            "\u001b[1;31mFailed to start the Kernel. \n",
            "\u001b[1;31mActivating extension 'ms-python.python' failed: command 'python.viewOutput' already exists. \n",
            "\u001b[1;31mView Jupyter <a href='command:jupyter.viewOutput'>log</a> for further details."
          ]
        }
      ],
      "source": [
        "df.info()"
      ]
    },
    {
      "cell_type": "code",
      "execution_count": null,
      "metadata": {
        "colab": {
          "base_uri": "https://localhost:8080/"
        },
        "id": "O4RU3JE56Xxx",
        "outputId": "358114d1-4bed-44e1-cdb5-41a8d29f768c"
      },
      "outputs": [
        {
          "ename": "",
          "evalue": "",
          "output_type": "error",
          "traceback": [
            "\u001b[1;31mFailed to start the Kernel. \n",
            "\u001b[1;31mActivating extension 'ms-python.python' failed: command 'python.viewOutput' already exists. \n",
            "\u001b[1;31mView Jupyter <a href='command:jupyter.viewOutput'>log</a> for further details."
          ]
        }
      ],
      "source": [
        "#checking for duplicates\n",
        "df = df.drop_duplicates()\n",
        "df.duplicated().sum()"
      ]
    },
    {
      "cell_type": "code",
      "execution_count": null,
      "metadata": {
        "colab": {
          "base_uri": "https://localhost:8080/"
        },
        "id": "4ZWzLAPiyiO7",
        "outputId": "5073bb3d-709a-4e16-948c-acefb1b4dcb6"
      },
      "outputs": [
        {
          "ename": "",
          "evalue": "",
          "output_type": "error",
          "traceback": [
            "\u001b[1;31mFailed to start the Kernel. \n",
            "\u001b[1;31mActivating extension 'ms-python.python' failed: command 'python.viewOutput' already exists. \n",
            "\u001b[1;31mView Jupyter <a href='command:jupyter.viewOutput'>log</a> for further details."
          ]
        }
      ],
      "source": [
        "#checking for null values\n",
        "df.isnull().sum()"
      ]
    },
    {
      "cell_type": "code",
      "execution_count": null,
      "metadata": {
        "id": "UMJca5T1zWPw"
      },
      "outputs": [
        {
          "ename": "",
          "evalue": "",
          "output_type": "error",
          "traceback": [
            "\u001b[1;31mFailed to start the Kernel. \n",
            "\u001b[1;31mActivating extension 'ms-python.python' failed: command 'python.viewOutput' already exists. \n",
            "\u001b[1;31mView Jupyter <a href='command:jupyter.viewOutput'>log</a> for further details."
          ]
        }
      ],
      "source": [
        "#calculating price for one kg\n",
        "df['Unit Price'] = df['Product price'] / df['Product weight']"
      ]
    },
    {
      "cell_type": "code",
      "execution_count": null,
      "metadata": {
        "id": "S_BMgDx2JsgV"
      },
      "outputs": [
        {
          "ename": "",
          "evalue": "",
          "output_type": "error",
          "traceback": [
            "\u001b[1;31mFailed to start the Kernel. \n",
            "\u001b[1;31mActivating extension 'ms-python.python' failed: command 'python.viewOutput' already exists. \n",
            "\u001b[1;31mView Jupyter <a href='command:jupyter.viewOutput'>log</a> for further details."
          ]
        }
      ],
      "source": [
        "#changeing type to datetime\n",
        "df[\"Date\"] = pd.to_datetime(df[\"Date\"])"
      ]
    },
    {
      "cell_type": "code",
      "execution_count": null,
      "metadata": {
        "colab": {
          "base_uri": "https://localhost:8080/",
          "height": 204
        },
        "id": "H8r1pJrD0xpQ",
        "outputId": "4ceb593f-9cce-4f82-c321-77d8e51300eb"
      },
      "outputs": [
        {
          "ename": "",
          "evalue": "",
          "output_type": "error",
          "traceback": [
            "\u001b[1;31mFailed to start the Kernel. \n",
            "\u001b[1;31mActivating extension 'ms-python.python' failed: command 'python.viewOutput' already exists. \n",
            "\u001b[1;31mView Jupyter <a href='command:jupyter.viewOutput'>log</a> for further details."
          ]
        }
      ],
      "source": [
        "df.head()"
      ]
    },
    {
      "cell_type": "markdown",
      "metadata": {
        "id": "-jjhJHdBJz3F"
      },
      "source": [
        "## **Data Descriptive Visualizations**"
      ]
    },
    {
      "cell_type": "code",
      "execution_count": null,
      "metadata": {
        "colab": {
          "base_uri": "https://localhost:8080/",
          "height": 542
        },
        "id": "QF7vsEZvOh6b",
        "outputId": "423f7c03-acc9-49b3-bcb5-bb2ce7d02014"
      },
      "outputs": [
        {
          "ename": "",
          "evalue": "",
          "output_type": "error",
          "traceback": [
            "\u001b[1;31mFailed to start the Kernel. \n",
            "\u001b[1;31mActivating extension 'ms-python.python' failed: command 'python.viewOutput' already exists. \n",
            "\u001b[1;31mView Jupyter <a href='command:jupyter.viewOutput'>log</a> for further details."
          ]
        }
      ],
      "source": [
        "# Check the correlation between numerical columns using a heatmap\n",
        "\n",
        "# Select numerical columns\n",
        "num_cols = df.select_dtypes(include='number')\n",
        "corr_matrix = num_cols.corr()\n",
        "fig = px.imshow(corr_matrix.values,\n",
        "                x=num_cols.columns,\n",
        "                y=num_cols.columns,\n",
        "                color_continuous_scale='RdBu',\n",
        "                zmin=-1,\n",
        "                zmax=1)\n",
        "fig.update_layout(title='Correlation Heatmap')\n",
        "fig.show()"
      ]
    },
    {
      "cell_type": "code",
      "execution_count": null,
      "metadata": {
        "colab": {
          "base_uri": "https://localhost:8080/",
          "height": 1000
        },
        "id": "-gVfavg2P1g5",
        "outputId": "7bb47bf5-7241-48bc-91d4-20a3975d5e04"
      },
      "outputs": [
        {
          "ename": "",
          "evalue": "",
          "output_type": "error",
          "traceback": [
            "\u001b[1;31mFailed to start the Kernel. \n",
            "\u001b[1;31mActivating extension 'ms-python.python' failed: command 'python.viewOutput' already exists. \n",
            "\u001b[1;31mView Jupyter <a href='command:jupyter.viewOutput'>log</a> for further details."
          ]
        }
      ],
      "source": [
        "# Check for outliers in numerical columns using boxplots\n",
        "numerical_cols = ['Product weight', 'Product price']\n",
        "\n",
        "for col in numerical_cols:\n",
        "    fig = px.box(df, x=col)\n",
        "    fig.show()"
      ]
    },
    {
      "cell_type": "code",
      "execution_count": null,
      "metadata": {
        "colab": {
          "base_uri": "https://localhost:8080/",
          "height": 542
        },
        "id": "TT926dSBAK32",
        "outputId": "fbae6099-0daf-49be-d666-1c06be82c1a1"
      },
      "outputs": [
        {
          "ename": "",
          "evalue": "",
          "output_type": "error",
          "traceback": [
            "\u001b[1;31mFailed to start the Kernel. \n",
            "\u001b[1;31mActivating extension 'ms-python.python' failed: command 'python.viewOutput' already exists. \n",
            "\u001b[1;31mView Jupyter <a href='command:jupyter.viewOutput'>log</a> for further details."
          ]
        }
      ],
      "source": [
        "# Calculate daily sales\n",
        "daily_sales = df.groupby('Date')['Product price'].sum()\n",
        "fig = go.Figure()\n",
        "fig.add_trace(go.Scatter(x=daily_sales.index, y=daily_sales.values, mode='lines'))\n",
        "fig.update_layout(title='Daily Sales', xaxis_title='Date', yaxis_title='Total sales')\n",
        "fig.show()"
      ]
    },
    {
      "cell_type": "code",
      "execution_count": null,
      "metadata": {
        "colab": {
          "base_uri": "https://localhost:8080/",
          "height": 542
        },
        "id": "SD6TcQF4A3T9",
        "outputId": "71c48549-8eaf-41e9-b9fe-1d33f60ad537"
      },
      "outputs": [
        {
          "ename": "",
          "evalue": "",
          "output_type": "error",
          "traceback": [
            "\u001b[1;31mFailed to start the Kernel. \n",
            "\u001b[1;31mActivating extension 'ms-python.python' failed: command 'python.viewOutput' already exists. \n",
            "\u001b[1;31mView Jupyter <a href='command:jupyter.viewOutput'>log</a> for further details."
          ]
        }
      ],
      "source": [
        "#Product Weight and Price plot\n",
        "fig = px.scatter(df, x=\"Product weight\", y=\"Product price\",\n",
        "                 title=\"Product Weight vs Price\",\n",
        "                 labels={\"Product weight\": \"Weight (kg)\", \"Product price\": \"Price (AMD)\"},\n",
        "                 size=\"Product weight\")\n",
        "fig.show()"
      ]
    },
    {
      "cell_type": "code",
      "execution_count": null,
      "metadata": {
        "colab": {
          "base_uri": "https://localhost:8080/",
          "height": 542
        },
        "id": "QEHlWHuzAASk",
        "outputId": "84c7f3ee-2fc6-4932-d60a-94e3e2e75a35"
      },
      "outputs": [
        {
          "ename": "",
          "evalue": "",
          "output_type": "error",
          "traceback": [
            "\u001b[1;31mFailed to start the Kernel. \n",
            "\u001b[1;31mActivating extension 'ms-python.python' failed: command 'python.viewOutput' already exists. \n",
            "\u001b[1;31mView Jupyter <a href='command:jupyter.viewOutput'>log</a> for further details."
          ]
        }
      ],
      "source": [
        "#distributions of prices of purchases based on gender\n",
        "fig = px.box(df, x='Gender', y='Product price', title='Product price by gender')\n",
        "fig.show()"
      ]
    },
    {
      "cell_type": "code",
      "execution_count": null,
      "metadata": {
        "colab": {
          "base_uri": "https://localhost:8080/",
          "height": 542
        },
        "id": "jZmXDr01AoxD",
        "outputId": "427835db-fc87-45ce-ada1-165576d11983"
      },
      "outputs": [
        {
          "ename": "",
          "evalue": "",
          "output_type": "error",
          "traceback": [
            "\u001b[1;31mFailed to start the Kernel. \n",
            "\u001b[1;31mActivating extension 'ms-python.python' failed: command 'python.viewOutput' already exists. \n",
            "\u001b[1;31mView Jupyter <a href='command:jupyter.viewOutput'>log</a> for further details."
          ]
        }
      ],
      "source": [
        "sales_by_gender = df.groupby('Gender')['InvoiceId'].count().reset_index()\n",
        "\n",
        "fig = px.bar(sales_by_gender, x=\"Gender\", y=\"InvoiceId\",\n",
        "             title=\"Number of Sales by Gender\",\n",
        "             labels={\"Gender\": \"Gender\", \"InvoiceId\": \"Number of Sales\"})\n",
        "fig.show()\n"
      ]
    },
    {
      "cell_type": "code",
      "execution_count": null,
      "metadata": {
        "colab": {
          "base_uri": "https://localhost:8080/",
          "height": 542
        },
        "id": "05GY4k4iAGmJ",
        "outputId": "fb7eed28-4c61-455f-9407-9adefaa67274"
      },
      "outputs": [
        {
          "ename": "",
          "evalue": "",
          "output_type": "error",
          "traceback": [
            "\u001b[1;31mFailed to start the Kernel. \n",
            "\u001b[1;31mActivating extension 'ms-python.python' failed: command 'python.viewOutput' already exists. \n",
            "\u001b[1;31mView Jupyter <a href='command:jupyter.viewOutput'>log</a> for further details."
          ]
        }
      ],
      "source": [
        "# Create a new DataFrame of unique customers\n",
        "unique_customers = df.drop_duplicates(subset='Customer')\n",
        "\n",
        "# Calculate gender counts\n",
        "gender_counts = unique_customers['Gender'].value_counts()\n",
        "\n",
        "# Create pie chart\n",
        "fig = px.pie(values=gender_counts.values, names=gender_counts.index, title='Gender Distribution of Unique Customers')\n",
        "fig.show()\n"
      ]
    },
    {
      "cell_type": "code",
      "execution_count": null,
      "metadata": {
        "colab": {
          "base_uri": "https://localhost:8080/",
          "height": 542
        },
        "id": "ENz9Jo5-AcyF",
        "outputId": "86520429-b637-4bc8-a02d-c58a2991c837"
      },
      "outputs": [
        {
          "ename": "",
          "evalue": "",
          "output_type": "error",
          "traceback": [
            "\u001b[1;31mFailed to start the Kernel. \n",
            "\u001b[1;31mActivating extension 'ms-python.python' failed: command 'python.viewOutput' already exists. \n",
            "\u001b[1;31mView Jupyter <a href='command:jupyter.viewOutput'>log</a> for further details."
          ]
        }
      ],
      "source": [
        "# Group by branch/locker and gender, and sum product price\n",
        "branch_gender_sales = df.groupby(['Branch/Locker', 'Gender'])['Product price'].sum()\n",
        "\n",
        "# Reshape data for stacked bar chart\n",
        "branch_gender_sales = branch_gender_sales.unstack(level=1)\n",
        "\n",
        "# Create stacked bar chart\n",
        "trace1 = go.Bar(x=branch_gender_sales.index, y=branch_gender_sales['F'], name='Female')\n",
        "trace2 = go.Bar(x=branch_gender_sales.index, y=branch_gender_sales['M'], name='Male')\n",
        "data = [trace1, trace2]\n",
        "layout = go.Layout(title='Total Sales by Branch/Locker and Gender',\n",
        "                   xaxis=dict(title='Branch/Locker'),\n",
        "                   yaxis=dict(title='Total Sales'),\n",
        "                   barmode='stack')\n",
        "fig = go.Figure(data=data, layout=layout)\n",
        "fig.show()\n"
      ]
    },
    {
      "cell_type": "markdown",
      "metadata": {
        "id": "6mKlGKfeLChS"
      },
      "source": [
        "# **RFM**"
      ]
    },
    {
      "cell_type": "code",
      "execution_count": null,
      "metadata": {
        "id": "CTjLaCC10pKi"
      },
      "outputs": [
        {
          "ename": "",
          "evalue": "",
          "output_type": "error",
          "traceback": [
            "\u001b[1;31mFailed to start the Kernel. \n",
            "\u001b[1;31mActivating extension 'ms-python.python' failed: command 'python.viewOutput' already exists. \n",
            "\u001b[1;31mView Jupyter <a href='command:jupyter.viewOutput'>log</a> for further details."
          ]
        }
      ],
      "source": [
        "#grouping data of each customer and creating aggregated columns\n",
        "df_data_group=df.groupby('Customer').agg({'Date': lambda date: (date.max() - date.min()).days,\n",
        "                                        'InvoiceId': lambda num: len(num),\n",
        "                                        'Product weight': lambda quant: quant.sum(),\n",
        "                                        'Product price': lambda price: price.sum()})"
      ]
    },
    {
      "cell_type": "code",
      "execution_count": null,
      "metadata": {
        "colab": {
          "base_uri": "https://localhost:8080/",
          "height": 235
        },
        "id": "V5nz_vxM3mkO",
        "outputId": "3a494050-f13c-44d0-d51a-14e15d902098"
      },
      "outputs": [
        {
          "ename": "",
          "evalue": "",
          "output_type": "error",
          "traceback": [
            "\u001b[1;31mFailed to start the Kernel. \n",
            "\u001b[1;31mActivating extension 'ms-python.python' failed: command 'python.viewOutput' already exists. \n",
            "\u001b[1;31mView Jupyter <a href='command:jupyter.viewOutput'>log</a> for further details."
          ]
        }
      ],
      "source": [
        "df_data_group.head()"
      ]
    },
    {
      "cell_type": "code",
      "execution_count": null,
      "metadata": {
        "colab": {
          "base_uri": "https://localhost:8080/",
          "height": 235
        },
        "id": "dLRuEei98CPr",
        "outputId": "603d60ca-1f2c-4b07-c4f0-b837b1ffc7b4"
      },
      "outputs": [
        {
          "ename": "",
          "evalue": "",
          "output_type": "error",
          "traceback": [
            "\u001b[1;31mFailed to start the Kernel. \n",
            "\u001b[1;31mActivating extension 'ms-python.python' failed: command 'python.viewOutput' already exists. \n",
            "\u001b[1;31mView Jupyter <a href='command:jupyter.viewOutput'>log</a> for further details."
          ]
        }
      ],
      "source": [
        "# Change the name of columns\n",
        "df_data_group.columns=['num_days','num_transactions','num_units','spent_money']\n",
        "df_data_group.head()\n"
      ]
    },
    {
      "cell_type": "markdown",
      "metadata": {
        "id": "ooiEhQTy88hF"
      },
      "source": [
        " CLTV = ((Average Order Value x Purchase Frequency)/Churn Rate) x Profit margin.\n",
        "\n",
        " Customer Value = Average Order Value * Purchase Frequency\n"
      ]
    },
    {
      "cell_type": "code",
      "execution_count": null,
      "metadata": {
        "id": "N1aC3KRx88ND"
      },
      "outputs": [
        {
          "ename": "",
          "evalue": "",
          "output_type": "error",
          "traceback": [
            "\u001b[1;31mFailed to start the Kernel. \n",
            "\u001b[1;31mActivating extension 'ms-python.python' failed: command 'python.viewOutput' already exists. \n",
            "\u001b[1;31mView Jupyter <a href='command:jupyter.viewOutput'>log</a> for further details."
          ]
        }
      ],
      "source": [
        "# Average Order Value\n",
        "df_data_group['avg_order_value']=df_data_group['spent_money']/df_data_group['num_transactions']"
      ]
    },
    {
      "cell_type": "code",
      "execution_count": null,
      "metadata": {
        "id": "x3-XUPcr9EIV"
      },
      "outputs": [
        {
          "ename": "",
          "evalue": "",
          "output_type": "error",
          "traceback": [
            "\u001b[1;31mFailed to start the Kernel. \n",
            "\u001b[1;31mActivating extension 'ms-python.python' failed: command 'python.viewOutput' already exists. \n",
            "\u001b[1;31mView Jupyter <a href='command:jupyter.viewOutput'>log</a> for further details."
          ]
        }
      ],
      "source": [
        "#Calculate purchase frequency\n",
        "purchase_frequency=sum(df_data_group['num_transactions'])/df_data_group.shape[0]"
      ]
    },
    {
      "cell_type": "code",
      "execution_count": null,
      "metadata": {
        "id": "zs22L6mT9n_J"
      },
      "outputs": [
        {
          "ename": "",
          "evalue": "",
          "output_type": "error",
          "traceback": [
            "\u001b[1;31mFailed to start the Kernel. \n",
            "\u001b[1;31mActivating extension 'ms-python.python' failed: command 'python.viewOutput' already exists. \n",
            "\u001b[1;31mView Jupyter <a href='command:jupyter.viewOutput'>log</a> for further details."
          ]
        }
      ],
      "source": [
        "# Repeat Rate\n",
        "repeat_rate=df_data_group[df_data_group.num_transactions > 1].shape[0]/df_data_group.shape[0]"
      ]
    },
    {
      "cell_type": "code",
      "execution_count": null,
      "metadata": {
        "id": "Dlkj9gu89wk3"
      },
      "outputs": [
        {
          "ename": "",
          "evalue": "",
          "output_type": "error",
          "traceback": [
            "\u001b[1;31mFailed to start the Kernel. \n",
            "\u001b[1;31mActivating extension 'ms-python.python' failed: command 'python.viewOutput' already exists. \n",
            "\u001b[1;31mView Jupyter <a href='command:jupyter.viewOutput'>log</a> for further details."
          ]
        }
      ],
      "source": [
        "#Churn Rate\n",
        "churn_rate=1-repeat_rate"
      ]
    },
    {
      "cell_type": "code",
      "execution_count": null,
      "metadata": {
        "colab": {
          "base_uri": "https://localhost:8080/"
        },
        "id": "Yg9NgZ1E904s",
        "outputId": "e43fe71d-daa3-45e8-9e3e-e2ba448c8887"
      },
      "outputs": [
        {
          "ename": "",
          "evalue": "",
          "output_type": "error",
          "traceback": [
            "\u001b[1;31mFailed to start the Kernel. \n",
            "\u001b[1;31mActivating extension 'ms-python.python' failed: command 'python.viewOutput' already exists. \n",
            "\u001b[1;31mView Jupyter <a href='command:jupyter.viewOutput'>log</a> for further details."
          ]
        }
      ],
      "source": [
        "purchase_frequency,repeat_rate,churn_rate\n"
      ]
    },
    {
      "cell_type": "code",
      "execution_count": null,
      "metadata": {
        "id": "gNmQ-iK2-LoX"
      },
      "outputs": [
        {
          "ename": "",
          "evalue": "",
          "output_type": "error",
          "traceback": [
            "\u001b[1;31mFailed to start the Kernel. \n",
            "\u001b[1;31mActivating extension 'ms-python.python' failed: command 'python.viewOutput' already exists. \n",
            "\u001b[1;31mView Jupyter <a href='command:jupyter.viewOutput'>log</a> for further details."
          ]
        }
      ],
      "source": [
        "# Profit Margin which is taken randomly\n",
        "df_data_group['profit_margin']=df_data_group['spent_money']*0.05"
      ]
    },
    {
      "cell_type": "code",
      "execution_count": null,
      "metadata": {
        "id": "uhz7jywP932s"
      },
      "outputs": [
        {
          "ename": "",
          "evalue": "",
          "output_type": "error",
          "traceback": [
            "\u001b[1;31mFailed to start the Kernel. \n",
            "\u001b[1;31mActivating extension 'ms-python.python' failed: command 'python.viewOutput' already exists. \n",
            "\u001b[1;31mView Jupyter <a href='command:jupyter.viewOutput'>log</a> for further details."
          ]
        }
      ],
      "source": [
        "# Customer Value\n",
        "df_data_group['CLV']=(df_data_group['avg_order_value']*purchase_frequency)/churn_rate"
      ]
    },
    {
      "cell_type": "code",
      "execution_count": null,
      "metadata": {
        "colab": {
          "base_uri": "https://localhost:8080/",
          "height": 686
        },
        "id": "4TmQ5s-0C64h",
        "outputId": "d67e6153-8bf6-494f-9a4e-31947aee6465"
      },
      "outputs": [
        {
          "ename": "",
          "evalue": "",
          "output_type": "error",
          "traceback": [
            "\u001b[1;31mFailed to start the Kernel. \n",
            "\u001b[1;31mActivating extension 'ms-python.python' failed: command 'python.viewOutput' already exists. \n",
            "\u001b[1;31mView Jupyter <a href='command:jupyter.viewOutput'>log</a> for further details."
          ]
        }
      ],
      "source": [
        "#distribution of CLV\n",
        "sns.distplot(df_data_group[\"CLV\"])\n",
        "# plt.savefig(\"CLV.png\")\n",
        "plt.show()"
      ]
    },
    {
      "cell_type": "code",
      "execution_count": null,
      "metadata": {
        "colab": {
          "base_uri": "https://localhost:8080/",
          "height": 445
        },
        "id": "nQCMfAeNDN6w",
        "outputId": "28c814f4-aaee-4611-e605-e9d877d3b0f7"
      },
      "outputs": [
        {
          "ename": "",
          "evalue": "",
          "output_type": "error",
          "traceback": [
            "\u001b[1;31mFailed to start the Kernel. \n",
            "\u001b[1;31mActivating extension 'ms-python.python' failed: command 'python.viewOutput' already exists. \n",
            "\u001b[1;31mView Jupyter <a href='command:jupyter.viewOutput'>log</a> for further details."
          ]
        }
      ],
      "source": [
        "#distribution of CLV with Q1,Q2 and Q3\n",
        "sns.boxplot(df_data_group[\"CLV\"])\n",
        "plt.show()"
      ]
    },
    {
      "cell_type": "code",
      "execution_count": null,
      "metadata": {
        "colab": {
          "base_uri": "https://localhost:8080/"
        },
        "id": "D9K1hkboDU8v",
        "outputId": "fdb2443b-86d9-429a-f09b-e3cbd48b14f2"
      },
      "outputs": [
        {
          "ename": "",
          "evalue": "",
          "output_type": "error",
          "traceback": [
            "\u001b[1;31mFailed to start the Kernel. \n",
            "\u001b[1;31mActivating extension 'ms-python.python' failed: command 'python.viewOutput' already exists. \n",
            "\u001b[1;31mView Jupyter <a href='command:jupyter.viewOutput'>log</a> for further details."
          ]
        }
      ],
      "source": [
        "#skewness of CLV distribution\n",
        "df_data_group[\"CLV\"].skew()"
      ]
    },
    {
      "cell_type": "code",
      "execution_count": null,
      "metadata": {
        "id": "QvXs7-WT-bHP"
      },
      "outputs": [
        {
          "ename": "",
          "evalue": "",
          "output_type": "error",
          "traceback": [
            "\u001b[1;31mFailed to start the Kernel. \n",
            "\u001b[1;31mActivating extension 'ms-python.python' failed: command 'python.viewOutput' already exists. \n",
            "\u001b[1;31mView Jupyter <a href='command:jupyter.viewOutput'>log</a> for further details."
          ]
        }
      ],
      "source": [
        "#Customer Lifetime Value (CLTV)\n",
        "df_data_group['CLTV']=df_data_group['CLV']*df_data_group['profit_margin']"
      ]
    },
    {
      "cell_type": "code",
      "execution_count": null,
      "metadata": {
        "colab": {
          "base_uri": "https://localhost:8080/",
          "height": 279
        },
        "id": "uQC-ESyV-gRY",
        "outputId": "4aba89f2-f7af-4718-9ed5-8fdf7bbf6db9"
      },
      "outputs": [
        {
          "ename": "",
          "evalue": "",
          "output_type": "error",
          "traceback": [
            "\u001b[1;31mFailed to start the Kernel. \n",
            "\u001b[1;31mActivating extension 'ms-python.python' failed: command 'python.viewOutput' already exists. \n",
            "\u001b[1;31mView Jupyter <a href='command:jupyter.viewOutput'>log</a> for further details."
          ]
        }
      ],
      "source": [
        "df_data_group.head()"
      ]
    },
    {
      "cell_type": "code",
      "execution_count": null,
      "metadata": {
        "id": "QShvDNkoLZ4z"
      },
      "outputs": [
        {
          "ename": "",
          "evalue": "",
          "output_type": "error",
          "traceback": [
            "\u001b[1;31mFailed to start the Kernel. \n",
            "\u001b[1;31mActivating extension 'ms-python.python' failed: command 'python.viewOutput' already exists. \n",
            "\u001b[1;31mView Jupyter <a href='command:jupyter.viewOutput'>log</a> for further details."
          ]
        }
      ],
      "source": [
        "today_date = datetime.today()\n",
        "cltv_df = df.groupby('Customer').agg({'Date': [lambda date: (date.max() - date.min()).days,\n",
        "                                                     lambda date: (today_date - date.min()).days],\n",
        "                                           'InvoiceId':      lambda num: num.nunique(),\n",
        "                                           'Product price':   lambda TotalPrice: TotalPrice.sum()})\n"
      ]
    },
    {
      "cell_type": "code",
      "execution_count": null,
      "metadata": {
        "id": "hbdiwllK-sj7"
      },
      "outputs": [
        {
          "ename": "",
          "evalue": "",
          "output_type": "error",
          "traceback": [
            "\u001b[1;31mFailed to start the Kernel. \n",
            "\u001b[1;31mActivating extension 'ms-python.python' failed: command 'python.viewOutput' already exists. \n",
            "\u001b[1;31mView Jupyter <a href='command:jupyter.viewOutput'>log</a> for further details."
          ]
        }
      ],
      "source": [
        "cltv_df.columns = cltv_df.columns.droplevel(0)\n",
        "cltv_df.columns = ['recency', 'T', 'frequency', 'monetary']\n",
        "cltv_df[\"monetary\"] = cltv_df[\"monetary\"] / cltv_df[\"frequency\"]\n",
        "cltv_df = cltv_df[cltv_df[\"monetary\"] > 0]\n",
        "cltv_df = cltv_df[cltv_df[\"frequency\"] > 0]\n",
        "cltv_df[\"recency\"] = cltv_df[\"recency\"] / 7\n",
        "cltv_df[\"T\"] = cltv_df[\"T\"] / 7\n",
        "cltv_df = cltv_df[(cltv_df['frequency'] > 1)]"
      ]
    },
    {
      "cell_type": "code",
      "execution_count": null,
      "metadata": {
        "colab": {
          "base_uri": "https://localhost:8080/",
          "height": 235
        },
        "id": "WeZnAvGMDgGR",
        "outputId": "d20269f7-dc26-495a-de2d-60bdaf4c6502"
      },
      "outputs": [
        {
          "ename": "",
          "evalue": "",
          "output_type": "error",
          "traceback": [
            "\u001b[1;31mFailed to start the Kernel. \n",
            "\u001b[1;31mActivating extension 'ms-python.python' failed: command 'python.viewOutput' already exists. \n",
            "\u001b[1;31mView Jupyter <a href='command:jupyter.viewOutput'>log</a> for further details."
          ]
        }
      ],
      "source": [
        "cltv_df.head()\n"
      ]
    },
    {
      "cell_type": "code",
      "execution_count": null,
      "metadata": {
        "id": "09YRJ_RcEBpi"
      },
      "outputs": [
        {
          "ename": "",
          "evalue": "",
          "output_type": "error",
          "traceback": [
            "\u001b[1;31mFailed to start the Kernel. \n",
            "\u001b[1;31mActivating extension 'ms-python.python' failed: command 'python.viewOutput' already exists. \n",
            "\u001b[1;31mView Jupyter <a href='command:jupyter.viewOutput'>log</a> for further details."
          ]
        }
      ],
      "source": [
        "rfm = pd.DataFrame()\n",
        "rfm[\"recency_score\"] = pd.qcut(cltv_df['recency'], 5, labels=[5, 4, 3, 2, 1])\n",
        "rfm[\"frequency_score\"] = pd.qcut(cltv_df[\"frequency\"].rank(method=\"first\"), 5, labels=[1, 2, 3, 4, 5])\n",
        "rfm[\"monetary_score\"] = pd.qcut(cltv_df[\"monetary\"], 5, labels=[1, 2, 3, 4, 5])\n",
        "rfm[\"RFM_SCORE\"] = (rfm[\"recency_score\"].astype(str) + rfm[\"frequency_score\"].astype(str))"
      ]
    },
    {
      "cell_type": "code",
      "execution_count": null,
      "metadata": {
        "colab": {
          "base_uri": "https://localhost:8080/",
          "height": 390
        },
        "id": "x2_pZLiXEnEO",
        "outputId": "2b8d1c8d-56d7-4109-86dc-db8c56397696"
      },
      "outputs": [
        {
          "ename": "",
          "evalue": "",
          "output_type": "error",
          "traceback": [
            "\u001b[1;31mFailed to start the Kernel. \n",
            "\u001b[1;31mActivating extension 'ms-python.python' failed: command 'python.viewOutput' already exists. \n",
            "\u001b[1;31mView Jupyter <a href='command:jupyter.viewOutput'>log</a> for further details."
          ]
        }
      ],
      "source": [
        "seg_map = {\n",
        "    r'[1-2][1-2]': 'HIBERNATING',\n",
        "    r'[1-2][3-4]': 'AT RISK',\n",
        "    r'[1-2]5': 'CANT LOSE',\n",
        "    r'3[1-2]': 'ABOUT TO SLEEP',\n",
        "    r'33': 'NEED ATTENTION',\n",
        "    r'[3-4][4-5]': 'LOYAL CUSTOMER',\n",
        "    r'41': 'PROMISING',\n",
        "    r'51': 'NEW CUSTOMERS',\n",
        "    r'[4-5][2-3]': 'POTENTIAL LOYALIST',\n",
        "    r'5[4-5]': 'CHAMPIONS'\n",
        "}\n",
        "rfm['segment'] = rfm['RFM_SCORE'].replace(seg_map, regex=True)\n",
        "rfm.head(10)"
      ]
    },
    {
      "cell_type": "code",
      "execution_count": null,
      "metadata": {
        "colab": {
          "base_uri": "https://localhost:8080/",
          "height": 542
        },
        "id": "-ZxNVhzZEqRf",
        "outputId": "1ec1733d-3060-4049-8b99-dccec2fae5c2"
      },
      "outputs": [
        {
          "ename": "",
          "evalue": "",
          "output_type": "error",
          "traceback": [
            "\u001b[1;31mFailed to start the Kernel. \n",
            "\u001b[1;31mActivating extension 'ms-python.python' failed: command 'python.viewOutput' already exists. \n",
            "\u001b[1;31mView Jupyter <a href='command:jupyter.viewOutput'>log</a> for further details."
          ]
        }
      ],
      "source": [
        "df_treemap = rfm.groupby('segment').agg('count').reset_index()\n",
        "fig = px.treemap(df_treemap, path=['segment'], values='RFM_SCORE')\n",
        "fig.show()"
      ]
    },
    {
      "cell_type": "markdown",
      "metadata": {
        "id": "6F-ZPluyJCAw"
      },
      "source": [
        "# **MODELING**"
      ]
    },
    {
      "cell_type": "code",
      "execution_count": null,
      "metadata": {
        "colab": {
          "base_uri": "https://localhost:8080/"
        },
        "id": "fBLc-Ax4EM92",
        "outputId": "878e84dd-e88a-4d16-8271-19dc98489dc8"
      },
      "outputs": [
        {
          "ename": "",
          "evalue": "",
          "output_type": "error",
          "traceback": [
            "\u001b[1;31mFailed to start the Kernel. \n",
            "\u001b[1;31mActivating extension 'ms-python.python' failed: command 'python.viewOutput' already exists. \n",
            "\u001b[1;31mView Jupyter <a href='command:jupyter.viewOutput'>log</a> for further details."
          ]
        }
      ],
      "source": [
        "bgf = BetaGeoFitter(penalizer_coef=0.0)\n",
        "bgf.fit(cltv_df['frequency'],\n",
        "        cltv_df['recency'],\n",
        "        cltv_df['T'])"
      ]
    },
    {
      "cell_type": "code",
      "execution_count": null,
      "metadata": {
        "colab": {
          "base_uri": "https://localhost:8080/",
          "height": 739
        },
        "id": "OasOimaHFHPa",
        "outputId": "413fb253-fa47-4dec-be39-234706f24788"
      },
      "outputs": [
        {
          "ename": "",
          "evalue": "",
          "output_type": "error",
          "traceback": [
            "\u001b[1;31mFailed to start the Kernel. \n",
            "\u001b[1;31mActivating extension 'ms-python.python' failed: command 'python.viewOutput' already exists. \n",
            "\u001b[1;31mView Jupyter <a href='command:jupyter.viewOutput'>log</a> for further details."
          ]
        }
      ],
      "source": [
        "fig = plt.figure(figsize=(12,8))\n",
        "p =plot_frequency_recency_matrix(bgf)"
      ]
    },
    {
      "cell_type": "code",
      "execution_count": null,
      "metadata": {
        "colab": {
          "base_uri": "https://localhost:8080/",
          "height": 773
        },
        "id": "AuypfxEkFzEQ",
        "outputId": "4c8ce15e-2707-4965-a302-1e852926a460"
      },
      "outputs": [
        {
          "ename": "",
          "evalue": "",
          "output_type": "error",
          "traceback": [
            "\u001b[1;31mFailed to start the Kernel. \n",
            "\u001b[1;31mActivating extension 'ms-python.python' failed: command 'python.viewOutput' already exists. \n",
            "\u001b[1;31mView Jupyter <a href='command:jupyter.viewOutput'>log</a> for further details."
          ]
        }
      ],
      "source": [
        "fig = plt.figure(figsize=(12,8))\n",
        "plot_probability_alive_matrix(bgf)"
      ]
    },
    {
      "cell_type": "code",
      "execution_count": null,
      "metadata": {
        "colab": {
          "base_uri": "https://localhost:8080/",
          "height": 450
        },
        "id": "uz2UXmyuKKTI",
        "outputId": "27e45e4a-4b94-48cf-d961-16592d3358b2"
      },
      "outputs": [
        {
          "ename": "",
          "evalue": "",
          "output_type": "error",
          "traceback": [
            "\u001b[1;31mFailed to start the Kernel. \n",
            "\u001b[1;31mActivating extension 'ms-python.python' failed: command 'python.viewOutput' already exists. \n",
            "\u001b[1;31mView Jupyter <a href='command:jupyter.viewOutput'>log</a> for further details."
          ]
        }
      ],
      "source": [
        "cltv_df[\"bgf_1week_purchase_pred\"] = bgf.predict(1,cltv_df['frequency'],cltv_df['recency'],cltv_df['T'])\n",
        "cltv_df[\"bgf_1month_purchase_pred\"] = bgf.predict(4,cltv_df['frequency'],cltv_df['recency'],cltv_df['T'])\n",
        "cltv_df.sort_values(\"bgf_1week_purchase_pred\", ascending=False)\n",
        "cltv_df.sort_values(\"bgf_1month_purchase_pred\", ascending=False)"
      ]
    },
    {
      "cell_type": "code",
      "execution_count": null,
      "metadata": {
        "colab": {
          "base_uri": "https://localhost:8080/"
        },
        "id": "82UCZK7DNtU2",
        "outputId": "da46dd9e-1dcb-4847-e00b-100fa6ec95df"
      },
      "outputs": [
        {
          "ename": "",
          "evalue": "",
          "output_type": "error",
          "traceback": [
            "\u001b[1;31mFailed to start the Kernel. \n",
            "\u001b[1;31mActivating extension 'ms-python.python' failed: command 'python.viewOutput' already exists. \n",
            "\u001b[1;31mView Jupyter <a href='command:jupyter.viewOutput'>log</a> for further details."
          ]
        }
      ],
      "source": [
        "#Gamma model\n",
        "ggf = GammaGammaFitter(penalizer_coef=0.1)\n",
        "ggf.fit(cltv_df['frequency'], cltv_df['monetary'])"
      ]
    },
    {
      "cell_type": "code",
      "execution_count": null,
      "metadata": {
        "colab": {
          "base_uri": "https://localhost:8080/",
          "height": 514
        },
        "id": "_9ut9ywMODDb",
        "outputId": "526c8962-d457-4713-a4b8-3a5b2b1ac92b"
      },
      "outputs": [
        {
          "ename": "",
          "evalue": "",
          "output_type": "error",
          "traceback": [
            "\u001b[1;31mFailed to start the Kernel. \n",
            "\u001b[1;31mActivating extension 'ms-python.python' failed: command 'python.viewOutput' already exists. \n",
            "\u001b[1;31mView Jupyter <a href='command:jupyter.viewOutput'>log</a> for further details."
          ]
        }
      ],
      "source": [
        "cltv_df[\"gg_average_profit_pred\"] = ggf.conditional_expected_average_profit(cltv_df['frequency'],cltv_df['monetary'])\n",
        "cltv_df.sort_values(\"gg_average_profit_pred\", ascending=False)"
      ]
    },
    {
      "cell_type": "code",
      "execution_count": null,
      "metadata": {
        "colab": {
          "base_uri": "https://localhost:8080/",
          "height": 268
        },
        "id": "gttyieLcOId9",
        "outputId": "4efb20ef-ea9e-4325-b99c-bc0c891a257d"
      },
      "outputs": [
        {
          "ename": "",
          "evalue": "",
          "output_type": "error",
          "traceback": [
            "\u001b[1;31mFailed to start the Kernel. \n",
            "\u001b[1;31mActivating extension 'ms-python.python' failed: command 'python.viewOutput' already exists. \n",
            "\u001b[1;31mView Jupyter <a href='command:jupyter.viewOutput'>log</a> for further details."
          ]
        }
      ],
      "source": [
        "# 1 Month CLTV prediction with GammaGamma\n",
        "cltv = ggf.customer_lifetime_value(bgf,\n",
        "                                   cltv_df['frequency'],\n",
        "                                   cltv_df['recency'],\n",
        "                                   cltv_df['T'],\n",
        "                                   cltv_df['monetary'],\n",
        "                                   time=1,  # 1 month\n",
        "                                   freq=\"W\",  # frequency of T\n",
        "                                   discount_rate=0.01)\n",
        "cltv= cltv.reset_index()\n",
        "cltv = cltv_df.merge(cltv, on=\"Customer\", how=\"left\")\n",
        "cltv.sort_values(by=\"clv\", ascending=False).head(5)"
      ]
    },
    {
      "cell_type": "code",
      "execution_count": null,
      "metadata": {
        "colab": {
          "base_uri": "https://localhost:8080/",
          "height": 268
        },
        "id": "xz38sdSDNxqR",
        "outputId": "6b7321d0-cd30-43f5-cf32-42f0f931f838"
      },
      "outputs": [
        {
          "ename": "",
          "evalue": "",
          "output_type": "error",
          "traceback": [
            "\u001b[1;31mFailed to start the Kernel. \n",
            "\u001b[1;31mActivating extension 'ms-python.python' failed: command 'python.viewOutput' already exists. \n",
            "\u001b[1;31mView Jupyter <a href='command:jupyter.viewOutput'>log</a> for further details."
          ]
        }
      ],
      "source": [
        "#12 month CLTV prediction with GammaGamma\n",
        "cltv_12 = ggf.customer_lifetime_value(bgf,\n",
        "                                   cltv_df['frequency'],\n",
        "                                   cltv_df['recency'],\n",
        "                                   cltv_df['T'],\n",
        "                                   cltv_df['monetary'],\n",
        "                                   time=12, \n",
        "                                   freq=\"W\",  \n",
        "                                   discount_rate=0.01)\n",
        "cltv_12 = cltv_12.reset_index()\n",
        "cltv_12 = cltv_df.merge(cltv_12, on=\"Customer\", how=\"left\")\n",
        "cltv_12.sort_values(by=\"clv\", ascending=False).head(5)"
      ]
    }
  ],
  "metadata": {
    "colab": {
      "provenance": []
    },
    "kernelspec": {
      "display_name": "Python 3",
      "language": "python",
      "name": "python3"
    },
    "language_info": {
      "name": "python",
      "version": "2.7.16 (default, Aug 30 2021, 14:43:11) \n[GCC Apple LLVM 12.0.5 (clang-1205.0.19.59.6) [+internal-os, ptrauth-isa=deploy"
    },
    "vscode": {
      "interpreter": {
        "hash": "8a5edab282632443219e051e4ade2d1d5bbc671c781051bf1437897cbdfea0f1"
      }
    }
  },
  "nbformat": 4,
  "nbformat_minor": 0
}
